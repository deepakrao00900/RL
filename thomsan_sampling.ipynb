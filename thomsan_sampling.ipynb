{
 "cells": [
  {
   "cell_type": "code",
   "execution_count": 1,
   "metadata": {
    "id": "iFobceKSea5w"
   },
   "outputs": [],
   "source": [
    "import pandas as pd\n",
    "import matplotlib.pyplot as plt\n",
    "import numpy as np"
   ]
  },
  {
   "cell_type": "code",
   "execution_count": 2,
   "metadata": {
    "id": "UwOnxOv7e1Az"
   },
   "outputs": [],
   "source": [
    "df = pd.read_csv(\"Ads_Optimisation.csv\")"
   ]
  },
  {
   "cell_type": "code",
   "execution_count": 3,
   "metadata": {
    "colab": {
     "base_uri": "https://localhost:8080/"
    },
    "id": "M6CW33g-e1Hv",
    "outputId": "3ac439d4-254d-4057-9aa9-0567cef342cf"
   },
   "outputs": [
    {
     "data": {
      "text/plain": [
       "(10000, 10)"
      ]
     },
     "execution_count": 3,
     "metadata": {},
     "output_type": "execute_result"
    }
   ],
   "source": [
    "df.shape"
   ]
  },
  {
   "cell_type": "code",
   "execution_count": 5,
   "metadata": {
    "id": "I3kPCfpWe1Ku"
   },
   "outputs": [],
   "source": [
    "import random\n",
    "\n",
    "N=df.shape[0]\n",
    "d=df.shape[1]\n",
    "ads_selected = []\n",
    "no_of_r_1 = [0] * d\n",
    "no_of_r_0 = [0] * d\n",
    "total_reward = 0\n",
    "\n",
    "for n in range(N):\n",
    "  ad = 0\n",
    "  max_random_beta = 0\n",
    "  for i in range(d):\n",
    "    random_beta = random.betavariate(no_of_r_1[i] + 1, no_of_r_0[i] + 1)\n",
    "    if random_beta > max_random_beta:\n",
    "      max_random_beta = max_random_beta\n",
    "      ad = i\n",
    "  ads_selected.append(ad)\n",
    "  reward = df.iloc[n,ad]\n",
    "  if reward == 1:\n",
    "    no_of_r_1[ad] += 1\n",
    "  else:\n",
    "    no_of_r_0[ad] += 1\n",
    "  total_reward += reward        "
   ]
  },
  {
   "cell_type": "code",
   "execution_count": 6,
   "metadata": {
    "colab": {
     "base_uri": "https://localhost:8080/"
    },
    "id": "J_D8ktTbe1Nt",
    "outputId": "318b9853-f4a5-403e-b4cf-a64965077232"
   },
   "outputs": [
    {
     "name": "stdout",
     "output_type": "stream",
     "text": [
      "489\n"
     ]
    }
   ],
   "source": [
    "print(total_reward)"
   ]
  },
  {
   "cell_type": "code",
   "execution_count": 8,
   "metadata": {
    "colab": {
     "base_uri": "https://localhost:8080/",
     "height": 312
    },
    "id": "mUT9CT8We1QW",
    "outputId": "e2ad5e56-59a9-4309-f00c-570ad0ae4c27"
   },
   "outputs": [
    {
     "data": {
      "text/plain": [
       "Text(0, 0.5, 'no of times each ad was selected by the algo')"
      ]
     },
     "execution_count": 8,
     "metadata": {},
     "output_type": "execute_result"
    },
    {
     "data": {
      "image/png": "[encoded data removed]",
      "text/plain": [
       "<Figure size 432x288 with 1 Axes>"
      ]
     },
     "metadata": {
      "needs_background": "light"
     },
     "output_type": "display_data"
    }
   ],
   "source": [
    "plt.hist(ads_selected)\n",
    "plt.title('histogram')\n",
    "plt.xlabel('ads')\n",
    "plt.ylabel('no of times each ad was selected by the algo')"
   ]
  },
  {
   "cell_type": "code",
   "execution_count": null,
   "metadata": {
    "id": "Wygj0Vnoe1S0"
   },
   "outputs": [],
   "source": []
  },
  {
   "cell_type": "code",
   "execution_count": null,
   "metadata": {
    "id": "YNgmThPfe1Vk"
   },
   "outputs": [],
   "source": []
  },
  {
   "cell_type": "code",
   "execution_count": null,
   "metadata": {
    "id": "-xlkrRR7e1YC"
   },
   "outputs": [],
   "source": []
  },
  {
   "cell_type": "code",
   "execution_count": null,
   "metadata": {
    "id": "ceR6hRfEe1bj"
   },
   "outputs": [],
   "source": []
  }
 ],
 "metadata": {
  "colab": {
   "provenance": []
  },
  "kernelspec": {
   "display_name": "Python 3",
   "language": "python",
   "name": "python3"
  },
  "language_info": {
   "codemirror_mode": {
    "name": "ipython",
    "version": 3
   },
   "file_extension": ".py",
   "mimetype": "text/x-python",
   "name": "python",
   "nbconvert_exporter": "python",
   "pygments_lexer": "ipython3",
   "version": "3.8.5"
  }
 },
 "nbformat": 4,
 "nbformat_minor": 1
}
